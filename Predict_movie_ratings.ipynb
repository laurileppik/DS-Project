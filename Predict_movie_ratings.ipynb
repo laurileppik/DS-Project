{
 "cells": [
  {
   "cell_type": "code",
<<<<<<< HEAD
   "execution_count": 1,
   "id": "07c4f0ea",
   "metadata": {},
   "outputs": [
    {
     "data": {
      "text/html": [
       "<div>\n",
       "<style scoped>\n",
       "    .dataframe tbody tr th:only-of-type {\n",
       "        vertical-align: middle;\n",
       "    }\n",
       "\n",
       "    .dataframe tbody tr th {\n",
       "        vertical-align: top;\n",
       "    }\n",
       "\n",
       "    .dataframe thead th {\n",
       "        text-align: right;\n",
       "    }\n",
       "</style>\n",
       "<table border=\"1\" class=\"dataframe\">\n",
       "  <thead>\n",
       "    <tr style=\"text-align: right;\">\n",
       "      <th></th>\n",
       "      <th>vote_average</th>\n",
       "      <th>vote_count</th>\n",
       "      <th>revenue</th>\n",
       "      <th>runtime</th>\n",
       "      <th>budget</th>\n",
       "      <th>original_language</th>\n",
       "      <th>popularity</th>\n",
       "      <th>genres</th>\n",
       "      <th>production_companies</th>\n",
       "      <th>production_countries</th>\n",
       "    </tr>\n",
       "  </thead>\n",
       "  <tbody>\n",
       "    <tr>\n",
       "      <th>0</th>\n",
       "      <td>8.364</td>\n",
       "      <td>34495</td>\n",
       "      <td>825532764</td>\n",
       "      <td>148</td>\n",
       "      <td>160000000</td>\n",
       "      <td>en</td>\n",
       "      <td>83.952</td>\n",
       "      <td>Action, Science Fiction, Adventure</td>\n",
       "      <td>Legendary Pictures, Syncopy, Warner Bros. Pict...</td>\n",
       "      <td>United Kingdom, United States of America</td>\n",
       "    </tr>\n",
       "    <tr>\n",
       "      <th>1</th>\n",
       "      <td>8.417</td>\n",
       "      <td>32571</td>\n",
       "      <td>701729206</td>\n",
       "      <td>169</td>\n",
       "      <td>165000000</td>\n",
       "      <td>en</td>\n",
       "      <td>140.241</td>\n",
       "      <td>Adventure, Drama, Science Fiction</td>\n",
       "      <td>Legendary Pictures, Syncopy, Lynda Obst Produc...</td>\n",
       "      <td>United Kingdom, United States of America</td>\n",
       "    </tr>\n",
       "    <tr>\n",
       "      <th>2</th>\n",
       "      <td>8.512</td>\n",
       "      <td>30619</td>\n",
       "      <td>1004558444</td>\n",
       "      <td>152</td>\n",
       "      <td>185000000</td>\n",
       "      <td>en</td>\n",
       "      <td>130.643</td>\n",
       "      <td>Drama, Action, Crime, Thriller</td>\n",
       "      <td>DC Comics, Legendary Pictures, Syncopy, Isobel...</td>\n",
       "      <td>United Kingdom, United States of America</td>\n",
       "    </tr>\n",
       "    <tr>\n",
       "      <th>3</th>\n",
       "      <td>7.573</td>\n",
       "      <td>29815</td>\n",
       "      <td>2923706026</td>\n",
       "      <td>162</td>\n",
       "      <td>237000000</td>\n",
       "      <td>en</td>\n",
       "      <td>79.932</td>\n",
       "      <td>Action, Adventure, Fantasy, Science Fiction</td>\n",
       "      <td>Dune Entertainment, Lightstorm Entertainment, ...</td>\n",
       "      <td>United States of America, United Kingdom</td>\n",
       "    </tr>\n",
       "    <tr>\n",
       "      <th>4</th>\n",
       "      <td>7.710</td>\n",
       "      <td>29166</td>\n",
       "      <td>1518815515</td>\n",
       "      <td>143</td>\n",
       "      <td>220000000</td>\n",
       "      <td>en</td>\n",
       "      <td>98.082</td>\n",
       "      <td>Science Fiction, Action, Adventure</td>\n",
       "      <td>Marvel Studios</td>\n",
       "      <td>United States of America</td>\n",
       "    </tr>\n",
       "  </tbody>\n",
       "</table>\n",
       "</div>"
      ],
      "text/plain": [
       "   vote_average  vote_count     revenue  runtime     budget original_language  \\\n",
       "0         8.364       34495   825532764      148  160000000                en   \n",
       "1         8.417       32571   701729206      169  165000000                en   \n",
       "2         8.512       30619  1004558444      152  185000000                en   \n",
       "3         7.573       29815  2923706026      162  237000000                en   \n",
       "4         7.710       29166  1518815515      143  220000000                en   \n",
       "\n",
       "   popularity                                       genres  \\\n",
       "0      83.952           Action, Science Fiction, Adventure   \n",
       "1     140.241            Adventure, Drama, Science Fiction   \n",
       "2     130.643               Drama, Action, Crime, Thriller   \n",
       "3      79.932  Action, Adventure, Fantasy, Science Fiction   \n",
       "4      98.082           Science Fiction, Action, Adventure   \n",
       "\n",
       "                                production_companies  \\\n",
       "0  Legendary Pictures, Syncopy, Warner Bros. Pict...   \n",
       "1  Legendary Pictures, Syncopy, Lynda Obst Produc...   \n",
       "2  DC Comics, Legendary Pictures, Syncopy, Isobel...   \n",
       "3  Dune Entertainment, Lightstorm Entertainment, ...   \n",
       "4                                     Marvel Studios   \n",
       "\n",
       "                       production_countries  \n",
       "0  United Kingdom, United States of America  \n",
       "1  United Kingdom, United States of America  \n",
       "2  United Kingdom, United States of America  \n",
       "3  United States of America, United Kingdom  \n",
       "4                  United States of America  "
      ]
     },
     "execution_count": 1,
     "metadata": {},
     "output_type": "execute_result"
    }
   ],
=======
   "execution_count": 3,
   "id": "07c4f0ea",
   "metadata": {},
   "outputs": [],
>>>>>>> ec22ec57819dded3c9b253cc7a6d3d2b1e322fe5
   "source": [
    "import pandas as pd\n",
    "\n",
    "df = pd.read_csv('fil_data_movies_lessthan10k_removed.csv')\n",
    "df = df.drop(columns=['id', 'title','release_date',  'adult','original_title', 'backdrop_path', 'homepage', 'imdb_id', 'overview', 'poster_path', 'tagline','spoken_languages' ])\n",
    "#df.head()"
   ]
  },
  {
   "cell_type": "code",
   "execution_count": 2,
   "id": "0b3078b1",
   "metadata": {},
   "outputs": [],
   "source": [
    "df_encoded = pd.get_dummies(df['genres'].str.split(', ').explode()).groupby(level=0).sum()\n",
    "#print(df_encoded.head())\n",
    "\n",
    "df_encoded2 = pd.get_dummies(df['original_language'].str.split(', ').explode()).groupby(level=0).sum()\n",
    "df_new = pd.DataFrame()\n",
    "df_new['en'] = df_encoded2['en']\n",
    "df_new['other'] = df_encoded2.drop('en', axis=1).sum(axis=1)\n",
    "#print(df_new)\n",
    "\n",
    "df_encoded3 = pd.get_dummies(df['production_companies'].str.split(', ').explode()).groupby(level=0).sum()\n",
    "mask = (df_encoded3.sum() >= 180)\n",
    "df_encoded3 = df_encoded3.loc[:, mask.values]\n",
    "#print(df_encoded3.sum())\n",
    "\n",
    "df_encoded4 = pd.get_dummies(df['production_countries'].str.split(', ').explode()).groupby(level=0).sum()\n",
    "df_new2 = pd.DataFrame()\n",
    "df_new2['United States of America'] = df_encoded4['United States of America']\n",
    "df_new2['United Kingdom'] = df_encoded4['United Kingdom']\n",
    "df_new2['other2'] = df_encoded4.drop(['United States of America', 'United Kingdom'], axis=1).sum(axis=1)\n",
    "#print(df_new2.sum())\n"
   ]
  },
  {
   "cell_type": "code",
   "execution_count": 4,
   "id": "ec81d40a",
   "metadata": {},
   "outputs": [],
   "source": [
    "df = pd.concat([df, df_encoded], axis=1)\n",
    "df = df.drop(columns=['genres'])\n",
    "\n",
    "df = pd.concat([df, df_new], axis=1)\n",
    "df = df.drop(columns=['original_language'])\n",
    "\n",
    "df = pd.concat([df, df_encoded3], axis=1)\n",
    "df = df.drop(columns=['production_companies'])\n",
    "\n",
    "df = pd.concat([df, df_new2], axis=1)\n",
    "df = df.drop(columns=['production_countries'])\n",
    "\n",
    "#df.head()"
   ]
  },
  {
   "cell_type": "code",
   "execution_count": 4,
   "id": "9469ff90",
   "metadata": {},
   "outputs": [],
   "source": [
    "from sklearn.model_selection import train_test_split\n",
    "from sklearn.linear_model import LinearRegression\n",
    "\n",
    "# Define the features and the target\n",
    "X = df.drop('vote_average', axis=1)\n",
    "y = df['vote_average']\n",
    "\n",
    "# Split the data into train and test sets\n",
    "X_train, X_test, y_train, y_test = train_test_split(X, y, test_size=0.2, random_state=0)\n",
    "\n",
    "# Create and fit the model\n",
    "model = LinearRegression()\n",
    "model.fit(X_train, y_train)\n",
    "\n",
    "# Make predictions on the test set\n",
    "y_pred = model.predict(X_test)\n"
   ]
  },
  {
   "cell_type": "code",
   "execution_count": 5,
   "id": "24381ce9",
   "metadata": {},
   "outputs": [],
   "source": [
    "# Import metrics\n",
    "from sklearn import metrics\n",
    "\n",
    "# Make predictions on the entire data set\n",
    "y_pred_all = model.predict(X_test)\n",
    "\n",
    "# Compare the predicted values with the actual values\n",
    "df_scores_comp_all = pd.DataFrame({'Actual': y_test, 'Predicted': y_pred_all})\n",
    "\n",
    "# Print the comparison dataframe\n",
    "#print(df_scores_comp_all)"
   ]
  },
  {
   "cell_type": "code",
   "execution_count": 5,
   "id": "75eb204d",
   "metadata": {
    "scrolled": true
   },
   "outputs": [
    {
<<<<<<< HEAD
     "data": {
      "text/plain": [
       "'\"\"\\n# Create a list of models\\nmodels = [LinearRegression(), DecisionTreeRegressor(), RandomForestRegressor()]\\n\\n# Define the hyperparameters for each model\\nhyperparameters = {\\n    \\'LinearRegression\\': {},\\n    \\'DecisionTreeRegressor\\': {\\'max_depth\\': [None, 5, 10]},\\n    \\'RandomForestRegressor\\': {\\'n_estimators\\': [100, 200, 300], \\'max_depth\\': [None, 5, 10]}\\n}\\n\\nfor model in models:\\n    model_name = model.__class__.__name__\\n    \\n    # Initialize the grid search\\n    grid_search = GridSearchCV(model, hyperparameters[model_name])\\n    \\n    # Train the model with the grid search\\n    grid_search.fit(X_train, y_train)\\n    \\n    # Make predictions with the best found model\\n    y_pred = grid_search.best_estimator_.predict(X_test)\\n    \\n    # Evaluate the model\\n    r2 = r2_score(y_test, y_pred)\\n    r2_percentage = r2 * 100\\n    print(f\"Model: {model_name}, Best Hyperparameters: {grid_search.best_params_}, R-squared (%): {r2_percentage}\")\\n\\n'"
      ]
     },
     "execution_count": 6,
     "metadata": {},
     "output_type": "execute_result"
=======
     "ename": "NameError",
     "evalue": "name 'X_train' is not defined",
     "output_type": "error",
     "traceback": [
      "\u001b[1;31m---------------------------------------------------------------------------\u001b[0m",
      "\u001b[1;31mNameError\u001b[0m                                 Traceback (most recent call last)",
      "Cell \u001b[1;32mIn[5], line 24\u001b[0m\n\u001b[0;32m     21\u001b[0m grid_search \u001b[38;5;241m=\u001b[39m GridSearchCV(model, hyperparameters[model_name])\n\u001b[0;32m     23\u001b[0m \u001b[38;5;66;03m# Train the model with the grid search\u001b[39;00m\n\u001b[1;32m---> 24\u001b[0m grid_search\u001b[38;5;241m.\u001b[39mfit(\u001b[43mX_train\u001b[49m, y_train)\n\u001b[0;32m     26\u001b[0m \u001b[38;5;66;03m# Make predictions with the best found model\u001b[39;00m\n\u001b[0;32m     27\u001b[0m y_pred \u001b[38;5;241m=\u001b[39m grid_search\u001b[38;5;241m.\u001b[39mbest_estimator_\u001b[38;5;241m.\u001b[39mpredict(X_test)\n",
      "\u001b[1;31mNameError\u001b[0m: name 'X_train' is not defined"
     ]
>>>>>>> ec22ec57819dded3c9b253cc7a6d3d2b1e322fe5
    }
   ],
   "source": [
    "from sklearn.model_selection import GridSearchCV\n",
    "from sklearn.linear_model import LinearRegression\n",
    "from sklearn.tree import DecisionTreeRegressor\n",
    "from sklearn.ensemble import RandomForestRegressor\n",
    "from sklearn.metrics import r2_score\n",
    "\"\"\"\"\"\n",
    "# Create a list of models\n",
    "models = [LinearRegression(), DecisionTreeRegressor(), RandomForestRegressor()]\n",
    "\n",
    "# Define the hyperparameters for each model\n",
    "hyperparameters = {\n",
    "    'LinearRegression': {},\n",
    "    'DecisionTreeRegressor': {'max_depth': [None, 5, 10]},\n",
    "    'RandomForestRegressor': {'n_estimators': [100, 200, 300], 'max_depth': [None, 5, 10]}\n",
    "}\n",
    "\n",
    "for model in models:\n",
    "    model_name = model.__class__.__name__\n",
    "    \n",
    "    # Initialize the grid search\n",
    "    grid_search = GridSearchCV(model, hyperparameters[model_name])\n",
    "    \n",
    "    # Train the model with the grid search\n",
    "    grid_search.fit(X_train, y_train)\n",
    "    \n",
    "    # Make predictions with the best found model\n",
    "    y_pred = grid_search.best_estimator_.predict(X_test)\n",
    "    \n",
    "    # Evaluate the model\n",
    "    r2 = r2_score(y_test, y_pred)\n",
    "    r2_percentage = r2 * 100\n",
<<<<<<< HEAD
    "    print(f\"Model: {model_name}, Best Hyperparameters: {grid_search.best_params_}, R-squared (%): {r2_percentage}\")\n",
    "\n",
    "\"\"\"\"\""
=======
    "    #print(f\"Model: {model_name}, Best Hyperparameters: {grid_search.best_params_}, R-squared (%): {r2_percentage}\")\n",
    "\n"
>>>>>>> ec22ec57819dded3c9b253cc7a6d3d2b1e322fe5
   ]
  },
  {
   "cell_type": "code",
   "execution_count": 7,
   "id": "5ebaf0f2",
   "metadata": {},
   "outputs": [
    {
     "data": {
      "text/plain": [
       "'\\nbest_params_ = grid_search.best_params_\\nmodel = RandomForestRegressor(**best_params_)\\nmodel.fit(X_train, y_train)\\ny_pred = model.predict(X_test)\\nprint(\"R2 score: \", r2_score(y_test, y_pred))\\n# Calculate MAE\\nmae = mean_absolute_error(y_test, y_pred)\\nprint(f\\'Mean Absolute Error (MAE): {mae}\\')\\n\\n# Calculate MSE\\nmse = mean_squared_error(y_test, y_pred)\\nprint(f\\'Mean Squared Error (MSE): {mse}\\')\\n\\n# Calculate RMSE\\nrmse = np.sqrt(mse)\\nprint(f\\'Root Mean Squared Error (RMSE): {rmse}\\')\\n'"
      ]
     },
     "execution_count": 7,
     "metadata": {},
     "output_type": "execute_result"
    }
   ],
   "source": [
    "from sklearn.ensemble import RandomForestRegressor\n",
    "from sklearn.metrics import mean_absolute_error, mean_squared_error\n",
    "import numpy as np\n",
    "\"\"\"\n",
    "best_params_ = grid_search.best_params_\n",
    "model = RandomForestRegressor(**best_params_)\n",
    "model.fit(X_train, y_train)\n",
    "y_pred = model.predict(X_test)\n",
    "print(\"R2 score: \", r2_score(y_test, y_pred))\n",
    "# Calculate MAE\n",
    "mae = mean_absolute_error(y_test, y_pred)\n",
    "print(f'Mean Absolute Error (MAE): {mae}')\n",
    "\n",
    "# Calculate MSE\n",
    "mse = mean_squared_error(y_test, y_pred)\n",
    "print(f'Mean Squared Error (MSE): {mse}')\n",
    "\n",
    "# Calculate RMSE\n",
    "rmse = np.sqrt(mse)\n",
    "print(f'Root Mean Squared Error (RMSE): {rmse}')\n",
    "\"\"\""
   ]
  },
  {
   "cell_type": "code",
   "execution_count": 8,
   "id": "0e9b832f",
   "metadata": {},
   "outputs": [
    {
     "name": "stdout",
     "output_type": "stream",
     "text": [
      "n_estimators: 500, max_depth: 20, MAE: 0.41985261416601155, MSE: 0.41985261416601155, RMSE: 0.5521537167848567, R2: 0.5361476317253129\n"
     ]
    }
   ],
   "source": [
    "from sklearn.ensemble import RandomForestRegressor\n",
    "from sklearn.metrics import mean_absolute_error, mean_squared_error\n",
    "import numpy as np\n",
    "\n",
    "X_train, X_test, y_train, y_test = train_test_split(X, y, test_size=0.2, random_state=0)\n",
    "\n",
    "n_estimators = [10, 50, 100, 200, 500]\n",
    "max_depths = [None, 5, 10, 15, 20]\n",
    "\n",
    "# Initialize lists to store the results\n",
    "mae_results = []\n",
    "mse_results = []\n",
    "rmse_results = []\n",
    "r2_results = []\n",
    "parameters = []\n",
    "\n",
    "# Loop over the hyperparameters\n",
    "for n in n_estimators:\n",
    "    for max_depth in max_depths:\n",
    "        # Initialize the model with the current hyperparameters\n",
    "        model = RandomForestRegressor(n_estimators=n, max_depth=max_depth, random_state=42)\n",
    "        \n",
    "        # Fit the model\n",
    "        model.fit(X_train, y_train)\n",
    "        \n",
    "        # Make predictions\n",
    "        y_pred = model.predict(X_test)\n",
    "        \n",
    "        # Calculate the metrics\n",
    "        mae = mean_absolute_error(y_test, y_pred)\n",
    "        mse = mean_squared_error(y_test, y_pred)\n",
    "        rmse = np.sqrt(mse)\n",
    "        r2 = r2_score(y_test, y_pred)\n",
    "        \n",
    "        # Store the results\n",
    "        mae_results.append(mae)\n",
    "        mse_results.append(mse)\n",
    "        rmse_results.append(rmse)\n",
    "        r2_results.append(r2)\n",
    "        parameters.append([n, max_depth])\n",
    "        \"\"\"\n",
    "        # Print the results\n",
    "        if(r2>0.5):\n",
    "            print(f'n_estimators: {n}, max_depth: {max_depth}, MAE: {mae}, MSE: {mse}, RMSE: {rmse}, R2: {r2}')\n",
    "        \"\"\"\n",
    "smallest = 1\n",
    "smallestN = 0\n",
    "for i in range(len(mse_results)):\n",
    "    if(mse_results[i]<smallest):\n",
    "        smallest = mse_results[i]\n",
    "        smallestN = i\n",
    "print(f'n_estimators: {parameters[smallestN][0]}, max_depth: {parameters[smallestN][1]}, MAE: {mae_results[smallestN]}, MSE: {mae_results[smallestN]}, RMSE: {rmse_results[smallestN]}, R2: {r2_results[smallestN]}')\n"
   ]
  }
 ],
 "metadata": {
  "kernelspec": {
   "display_name": "Python 3 (ipykernel)",
   "language": "python",
   "name": "python3"
  },
  "language_info": {
   "codemirror_mode": {
    "name": "ipython",
    "version": 3
   },
   "file_extension": ".py",
   "mimetype": "text/x-python",
   "name": "python",
   "nbconvert_exporter": "python",
   "pygments_lexer": "ipython3",
   "version": "3.11.5"
  }
 },
 "nbformat": 4,
 "nbformat_minor": 5
}
