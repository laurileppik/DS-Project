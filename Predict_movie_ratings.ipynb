{
 "cells": [
  {
   "cell_type": "code",
   "execution_count": 3,
   "id": "07c4f0ea",
   "metadata": {},
   "outputs": [],
   "source": [
    "import pandas as pd\n",
    "\n",
    "df = pd.read_csv('fil_data_movies_lessthan10k_removed.csv')\n",
    "df = df.drop(columns=['id', 'title','release_date',  'adult','original_title', 'backdrop_path', 'homepage', 'imdb_id', 'overview', 'poster_path', 'tagline','spoken_languages' ])\n",
    "#df.head()"
   ]
  },
  {
   "cell_type": "code",
   "execution_count": 2,
   "id": "0b3078b1",
   "metadata": {},
   "outputs": [],
   "source": [
    "df_encoded = pd.get_dummies(df['genres'].str.split(', ').explode()).groupby(level=0).sum()\n",
    "#print(df_encoded.head())\n",
    "\n",
    "df_encoded2 = pd.get_dummies(df['original_language'].str.split(', ').explode()).groupby(level=0).sum()\n",
    "df_new = pd.DataFrame()\n",
    "df_new['en'] = df_encoded2['en']\n",
    "df_new['other'] = df_encoded2.drop('en', axis=1).sum(axis=1)\n",
    "#print(df_new)\n",
    "\n",
    "df_encoded3 = pd.get_dummies(df['production_companies'].str.split(', ').explode()).groupby(level=0).sum()\n",
    "mask = (df_encoded3.sum() >= 180)\n",
    "df_encoded3 = df_encoded3.loc[:, mask.values]\n",
    "#print(df_encoded3.sum())\n",
    "\n",
    "df_encoded4 = pd.get_dummies(df['production_countries'].str.split(', ').explode()).groupby(level=0).sum()\n",
    "df_new2 = pd.DataFrame()\n",
    "df_new2['United States of America'] = df_encoded4['United States of America']\n",
    "df_new2['United Kingdom'] = df_encoded4['United Kingdom']\n",
    "df_new2['other2'] = df_encoded4.drop(['United States of America', 'United Kingdom'], axis=1).sum(axis=1)\n",
    "#print(df_new2.sum())\n"
   ]
  },
  {
   "cell_type": "code",
   "execution_count": 4,
   "id": "ec81d40a",
   "metadata": {},
   "outputs": [],
   "source": [
    "df = pd.concat([df, df_encoded], axis=1)\n",
    "df = df.drop(columns=['genres'])\n",
    "\n",
    "df = pd.concat([df, df_new], axis=1)\n",
    "df = df.drop(columns=['original_language'])\n",
    "\n",
    "df = pd.concat([df, df_encoded3], axis=1)\n",
    "df = df.drop(columns=['production_companies'])\n",
    "\n",
    "df = pd.concat([df, df_new2], axis=1)\n",
    "df = df.drop(columns=['production_countries'])\n",
    "\n",
    "#df.head()"
   ]
  },
  {
   "cell_type": "code",
   "execution_count": 4,
   "id": "9469ff90",
   "metadata": {},
   "outputs": [],
   "source": [
    "from sklearn.model_selection import train_test_split\n",
    "from sklearn.linear_model import LinearRegression\n",
    "\n",
    "# Define the features and the target\n",
    "X = df.drop('vote_average', axis=1)\n",
    "y = df['vote_average']\n",
    "\n",
    "# Split the data into train and test sets\n",
    "X_train, X_test, y_train, y_test = train_test_split(X, y, test_size=0.2, random_state=0)\n",
    "\n",
    "# Create and fit the model\n",
    "model = LinearRegression()\n",
    "model.fit(X_train, y_train)\n",
    "\n",
    "# Make predictions on the test set\n",
    "y_pred = model.predict(X_test)\n"
   ]
  },
  {
   "cell_type": "code",
   "execution_count": 5,
   "id": "24381ce9",
   "metadata": {},
   "outputs": [],
   "source": [
    "# Import metrics\n",
    "from sklearn import metrics\n",
    "\n",
    "# Make predictions on the entire data set\n",
    "y_pred_all = model.predict(X_test)\n",
    "\n",
    "# Compare the predicted values with the actual values\n",
    "df_scores_comp_all = pd.DataFrame({'Actual': y_test, 'Predicted': y_pred_all})\n",
    "\n",
    "# Print the comparison dataframe\n",
    "#print(df_scores_comp_all)"
   ]
  },
  {
   "cell_type": "code",
   "execution_count": 5,
   "id": "75eb204d",
   "metadata": {
    "scrolled": true
   },
   "outputs": [
    {
     "ename": "NameError",
     "evalue": "name 'X_train' is not defined",
     "output_type": "error",
     "traceback": [
      "\u001b[1;31m---------------------------------------------------------------------------\u001b[0m",
      "\u001b[1;31mNameError\u001b[0m                                 Traceback (most recent call last)",
      "Cell \u001b[1;32mIn[5], line 24\u001b[0m\n\u001b[0;32m     21\u001b[0m grid_search \u001b[38;5;241m=\u001b[39m GridSearchCV(model, hyperparameters[model_name])\n\u001b[0;32m     23\u001b[0m \u001b[38;5;66;03m# Train the model with the grid search\u001b[39;00m\n\u001b[1;32m---> 24\u001b[0m grid_search\u001b[38;5;241m.\u001b[39mfit(\u001b[43mX_train\u001b[49m, y_train)\n\u001b[0;32m     26\u001b[0m \u001b[38;5;66;03m# Make predictions with the best found model\u001b[39;00m\n\u001b[0;32m     27\u001b[0m y_pred \u001b[38;5;241m=\u001b[39m grid_search\u001b[38;5;241m.\u001b[39mbest_estimator_\u001b[38;5;241m.\u001b[39mpredict(X_test)\n",
      "\u001b[1;31mNameError\u001b[0m: name 'X_train' is not defined"
     ]
    }
   ],
   "source": [
    "from sklearn.model_selection import GridSearchCV\n",
    "from sklearn.linear_model import LinearRegression\n",
    "from sklearn.tree import DecisionTreeRegressor\n",
    "from sklearn.ensemble import RandomForestRegressor\n",
    "from sklearn.metrics import r2_score\n",
    "\n",
    "# Create a list of models\n",
    "models = [LinearRegression(), DecisionTreeRegressor(), RandomForestRegressor()]\n",
    "\n",
    "# Define the hyperparameters for each model\n",
    "hyperparameters = {\n",
    "    'LinearRegression': {},\n",
    "    'DecisionTreeRegressor': {'max_depth': [None, 5, 10]},\n",
    "    'RandomForestRegressor': {'n_estimators': [100, 200, 300], 'max_depth': [None, 5, 10]}\n",
    "}\n",
    "\n",
    "for model in models:\n",
    "    model_name = model.__class__.__name__\n",
    "    \n",
    "    # Initialize the grid search\n",
    "    grid_search = GridSearchCV(model, hyperparameters[model_name])\n",
    "    \n",
    "    # Train the model with the grid search\n",
    "    grid_search.fit(X_train, y_train)\n",
    "    \n",
    "    # Make predictions with the best found model\n",
    "    y_pred = grid_search.best_estimator_.predict(X_test)\n",
    "    \n",
    "    # Evaluate the model\n",
    "    r2 = r2_score(y_test, y_pred)\n",
    "    r2_percentage = r2 * 100\n",
    "    #print(f\"Model: {model_name}, Best Hyperparameters: {grid_search.best_params_}, R-squared (%): {r2_percentage}\")\n",
    "\n"
   ]
  },
  {
   "cell_type": "code",
   "execution_count": 7,
   "id": "94ed97ec",
   "metadata": {},
   "outputs": [
    {
     "name": "stdout",
     "output_type": "stream",
     "text": [
      "53.838018162441195\n"
     ]
    }
   ],
   "source": [
    "from sklearn.ensemble import RandomForestRegressor\n",
    "\n",
    "best_params_ = grid_search.best_params_\n",
    "model = RandomForestRegressor(**best_params_)\n",
    "model.fit(X_train, y_train)\n",
    "y_pred = model.predict(X_test)\n",
    "print(r2_score(y_test, y_pred)*100)"
   ]
  }
 ],
 "metadata": {
  "kernelspec": {
   "display_name": "Python 3 (ipykernel)",
   "language": "python",
   "name": "python3"
  },
  "language_info": {
   "codemirror_mode": {
    "name": "ipython",
    "version": 3
   },
   "file_extension": ".py",
   "mimetype": "text/x-python",
   "name": "python",
   "nbconvert_exporter": "python",
   "pygments_lexer": "ipython3",
   "version": "3.11.5"
  }
 },
 "nbformat": 4,
 "nbformat_minor": 5
}
